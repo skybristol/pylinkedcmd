{
 "cells": [
  {
   "cell_type": "markdown",
   "metadata": {},
   "source": [
    "I pulled a listing of Cost Center names and a few details from an internal web service (SIPP). This gives us a reasonable set of organizations to work against and the important FBMS code that we can tie to other information (e.g., personnel directory from ScienceBase). However, the SIPP center data is horribly out of date when it comes to the placement within Regions and connections to Mission Areas.\n",
    "\n",
    "This core function builds a flat table of just the pieces of information we want to use from the XML-based web service and dumps that to a local cache for processing. Running this and the missions/regions information first in building the graph will set up entities that can be further linked to in subsequent processes."
   ]
  },
  {
   "cell_type": "code",
   "execution_count": 6,
   "metadata": {},
   "outputs": [],
   "source": [
    "import requests\n",
    "import json\n",
    "import pandas as pd\n",
    "import xmltodict\n",
    "import os\n",
    "import pickle\n",
    "from copy import copy\n",
    "import re\n",
    "import validators\n",
    "import datetime\n",
    "import string\n",
    "import click\n",
    "import isaid_helpers"
   ]
  },
  {
   "cell_type": "code",
   "execution_count": 9,
   "metadata": {},
   "outputs": [],
   "source": [
    "# SIPP Stuff\n",
    "def mas_n_regions(return_format=\"dataframe\"):\n",
    "    df_data = pd.read_csv(isaid_helpers.f_mas_n_regions)\n",
    "        \n",
    "    if return_format == \"dict\":\n",
    "        return df_data.to_dict(orient=\"records\")\n",
    "    else:\n",
    "        return df_data\n",
    "\n",
    "def simplify_center(center, missions_regions):\n",
    "    include_props = ['CenterCode',\n",
    "     'CenterName',\n",
    "     'RegionCode',\n",
    "     'WSC',\n",
    "     'MissionArea',\n",
    "     'SubBureauCode',\n",
    "     'Active',\n",
    "     'CenterDirectorName',\n",
    "     'CenterDirectorEmail',\n",
    "     'CostCenterPrimary']\n",
    "\n",
    "    orgs = list()\n",
    "    center_base_record = {k:v for k,v in center.items() if k in include_props}\n",
    "    center_base_record[\"MissionAreaName\"] = next((i[\"name\"] for i in missions_regions if i[\"sipp_code\"] == center_base_record[\"MissionArea\"]), None)\n",
    "    center_base_record[\"RegionName\"] = next((i[\"name\"] for i in missions_regions if i[\"sipp_code\"] == center_base_record[\"RegionCode\"]), None)\n",
    "\n",
    "    if center_base_record[\"CostCenterPrimary\"] is None:\n",
    "        return orgs\n",
    "\n",
    "    orgs.append(center_base_record)\n",
    "    \n",
    "    if \"CostCenters\" in center and \"CostCenter\" in center[\"CostCenters\"]:\n",
    "        if isinstance(center[\"CostCenters\"][\"CostCenter\"], dict):\n",
    "            child_centers = [center[\"CostCenters\"][\"CostCenter\"]]\n",
    "        else:\n",
    "            child_centers = center[\"CostCenters\"][\"CostCenter\"]\n",
    "        \n",
    "        for child_center in [i for i in child_centers if i[\"CostCenterCode\"] != center_base_record[\"CostCenterPrimary\"]]:\n",
    "            orgs.append({\n",
    "                \"parent_cost_center_code\": center_base_record[\"CostCenterPrimary\"],\n",
    "                \"CenterCode\": child_center[\"CenterCode\"],\n",
    "                \"CenterName\": child_center[\"CostCenterName\"],\n",
    "                \"CostCenterPrimary\": child_center[\"CostCenterCode\"],\n",
    "                \"Active\": child_center[\"Active\"],\n",
    "                \"LastChangeInBASIS\": child_center[\"LastChangeInBASIS\"],\n",
    "                \"RegionCode\": center_base_record[\"RegionCode\"],\n",
    "                \"RegionName\": center_base_record[\"RegionName\"],\n",
    "                \"WSC\": center_base_record[\"WSC\"],\n",
    "                \"MissionArea\": center_base_record[\"MissionArea\"],\n",
    "                \"MissionAreaName\": center_base_record[\"MissionAreaName\"],\n",
    "                \"CenterDirectorEmail\": center_base_record[\"CenterDirectorEmail\"],\n",
    "                \"CenterDirectorName\": center_base_record[\"CenterDirectorName\"],\n",
    "                \"SubBureauCode\": center_base_record[\"SubBureauCode\"]\n",
    "            })\n",
    "\n",
    "    return orgs\n",
    "\n",
    "def get_sipp_center_data(return_format=\"dataframe\"):\n",
    "    r_active = requests.get(isaid_helpers.center_info_link)\n",
    "\n",
    "    active_centers = xmltodict.parse(r_active.text, dict_constructor=dict)\n",
    "\n",
    "    mission_areas = mas_n_regions(return_format=\"dict\")\n",
    "\n",
    "    active_center_records = list()\n",
    "    for center in active_centers[\"Centers\"][\"Center\"]:\n",
    "        active_center_records.extend(simplify_center(center, mission_areas))\n",
    "\n",
    "    if return_format == \"dict\":\n",
    "        return active_center_records\n",
    "    elif return_format == \"dataframe\":\n",
    "        return pd.DataFrame(active_center_records)\n",
    "    "
   ]
  },
  {
   "cell_type": "code",
   "execution_count": 10,
   "metadata": {},
   "outputs": [
    {
     "name": "stdout",
     "output_type": "stream",
     "text": [
      "Are you connected to the internal USGS network (TIC)? [Y/n]: Y\n",
      "usgs_cost_centers.csv CREATED 2021-06-07 15:46:53.083927\n",
      "CPU times: user 138 ms, sys: 30.3 ms, total: 169 ms\n",
      "Wall time: 5.54 s\n"
     ]
    }
   ],
   "source": [
    "%%time\n",
    "if click.confirm('Are you connected to the internal USGS network (TIC)?', default=True):\n",
    "    get_sipp_center_data(\n",
    "        return_format=\"dataframe\"\n",
    "    ).to_csv(isaid_helpers.f_usgs_centers, index=False)\n",
    "    print(\n",
    "        isaid_helpers.f_usgs_centers, \n",
    "        \"CREATED\", \n",
    "        datetime.datetime.fromtimestamp(os.path.getmtime(isaid_helpers.f_usgs_centers))\n",
    "    )\n"
   ]
  },
  {
   "cell_type": "code",
   "execution_count": null,
   "metadata": {},
   "outputs": [],
   "source": []
  }
 ],
 "metadata": {
  "kernelspec": {
   "display_name": "Python 3",
   "language": "python",
   "name": "python3"
  },
  "language_info": {
   "codemirror_mode": {
    "name": "ipython",
    "version": 3
   },
   "file_extension": ".py",
   "mimetype": "text/x-python",
   "name": "python",
   "nbconvert_exporter": "python",
   "pygments_lexer": "ipython3",
   "version": "3.8.2"
  }
 },
 "nbformat": 4,
 "nbformat_minor": 4
}
