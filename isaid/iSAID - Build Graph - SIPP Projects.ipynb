{
 "cells": [
  {
   "cell_type": "markdown",
   "metadata": {},
   "source": [
    "With our project data now somewhat laboriously built and optimized for mapping into the graph, we can proceed with bringing this new type of entity into the iSAID graph. We do this in a couple of steps, first bringing in the identifiers on existing people that will let us build relationships to projects, then bringing in the projects themselves, and then building out relationships."
   ]
  },
  {
   "cell_type": "code",
   "execution_count": 1,
   "metadata": {},
   "outputs": [],
   "source": [
    "import isaid_helpers\n",
    "import pandas as pd"
   ]
  },
  {
   "cell_type": "markdown",
   "metadata": {},
   "source": [
    "# Project Staff\n",
    "In order to get project records fully into our graph and linked up in meaningful ways, we need to introduce an additional internal opaque identifier used for project staffing in the internal system we are tapping for \"project\" records. In our data-building step for the SIPP records, we did the work of pulling all unique id/name/email combinations and comparing to what we already have in our graph. So, in this step, we can use a match on email and add properties/values to the existing entities in the graph. I go ahead and include the first_name and last_name properties that we used to help in name disambiguation along with the identifier values."
   ]
  },
  {
   "cell_type": "code",
   "execution_count": 3,
   "metadata": {},
   "outputs": [
    {
     "name": "stdout",
     "output_type": "stream",
     "text": [
      "CPU times: user 1.05 ms, sys: 4.56 ms, total: 5.62 ms\n",
      "Wall time: 298 ms\n"
     ]
    }
   ],
   "source": [
    "%%time\n",
    "with isaid_helpers.graph_driver.session(database=isaid_helpers.graphdb) as session:\n",
    "    session.run(\"\"\"\n",
    "        LOAD CSV WITH HEADERS FROM '%(source_path)s/%(source_file)s' AS row\n",
    "        WITH row\n",
    "            MATCH (p:Person {email: row.email})\n",
    "                SET p.id_fpps = row.id_fpps,\n",
    "                p.first_name = row.first_name,\n",
    "                p.last_name = row.last_name\n",
    "    \"\"\" % {\n",
    "        \"source_path\": isaid_helpers.local_cache_path,\n",
    "        \"source_file\": isaid_helpers.f_graphable_sipp_personnel\n",
    "    })"
   ]
  },
  {
   "cell_type": "markdown",
   "metadata": {},
   "source": [
    "# Project Entities\n",
    "Project entities are introduced to the graph for the first time here. I tried to stick with the same basic data modeling principles of a high level simplified set of properties, though we're not yet able to provide a meaningful URL for projects and the \"descriptions\" are currently so dense and heterogeneous as to not be meaningful in a single description presentation. Projects from our internal system are therefore much more defined by the relationships we can build from them to other entities in our graph, including the defined and undefined subjects we are working to build out."
   ]
  },
  {
   "cell_type": "code",
   "execution_count": 6,
   "metadata": {},
   "outputs": [
    {
     "name": "stdout",
     "output_type": "stream",
     "text": [
      "CPU times: user 2.99 ms, sys: 3.26 ms, total: 6.25 ms\n",
      "Wall time: 1min 44s\n"
     ]
    }
   ],
   "source": [
    "%%time\n",
    "with isaid_helpers.graph_driver.session(database=isaid_helpers.graphdb) as session:\n",
    "    session.run(\"\"\"\n",
    "        LOAD CSV WITH HEADERS FROM '%(source_path)s/%(source_file)s' AS row\n",
    "        WITH row\n",
    "            MERGE (pr:Project {project_id: row.project_id})\n",
    "            ON CREATE\n",
    "                SET pr.name = row.name,\n",
    "                pr.id_basis_project = row.id_basis_project,\n",
    "                pr.id_cost_center = row.id_cost_center,\n",
    "                pr.fbms_code = row.id_cost_center,\n",
    "                pr.source = row.source,\n",
    "                pr.type = row.type,\n",
    "                pr.status = row.status,\n",
    "                pr.descriptive_texts = row.descriptive_texts,\n",
    "                pr.id_basis_taskid = row.id_basis_taskid,\n",
    "                pr.id_basis_subtaskid = row.id_basis_subtaskid,\n",
    "                pr.basis_task_number = row.basis_task_number,\n",
    "                pr.basis_subtask_number = row.basis_subtask_number\n",
    "            ON MATCH\n",
    "                SET pr.fbms_code = row.id_cost_center\n",
    "    \"\"\" % {\n",
    "        \"source_path\": isaid_helpers.local_cache_path,\n",
    "        \"source_file\": isaid_helpers.f_graphable_sipp_projects\n",
    "    })"
   ]
  },
  {
   "cell_type": "code",
   "execution_count": 8,
   "metadata": {},
   "outputs": [
    {
     "name": "stdout",
     "output_type": "stream",
     "text": [
      "CPU times: user 8.48 ms, sys: 5.32 ms, total: 13.8 ms\n",
      "Wall time: 7min 15s\n"
     ]
    }
   ],
   "source": [
    "%%time\n",
    "with isaid_helpers.graph_driver.session(database=isaid_helpers.graphdb) as session:\n",
    "    session.run(\"\"\"\n",
    "        LOAD CSV WITH HEADERS FROM '%(source_path)s/%(source_file)s' AS row\n",
    "        WITH row\n",
    "            WHERE row.source = \"BASIS+ Task via SIPP Services\"\n",
    "            MATCH (t:Project {project_id: row.project_id})\n",
    "            WITH t, row\n",
    "                MATCH (p:Project {project_id: row.id_basis_project})\n",
    "                MERGE (t)-[:TASK_OF]->(p)\n",
    "    \"\"\" % {\n",
    "        \"source_path\": isaid_helpers.local_cache_path,\n",
    "        \"source_file\": isaid_helpers.f_graphable_sipp_projects\n",
    "    })"
   ]
  },
  {
   "cell_type": "code",
   "execution_count": 9,
   "metadata": {},
   "outputs": [
    {
     "name": "stdout",
     "output_type": "stream",
     "text": [
      "CPU times: user 4.74 ms, sys: 4.06 ms, total: 8.8 ms\n",
      "Wall time: 2min 26s\n"
     ]
    }
   ],
   "source": [
    "%%time\n",
    "with isaid_helpers.graph_driver.session(database=isaid_helpers.graphdb) as session:\n",
    "    session.run(\"\"\"\n",
    "        LOAD CSV WITH HEADERS FROM '%(source_path)s/%(source_file)s' AS row\n",
    "        WITH row\n",
    "            WHERE row.source = \"BASIS+ Subtask via SIPP Services\"\n",
    "            MATCH (st:Project {project_id: row.project_id})\n",
    "            WITH st, row\n",
    "                MATCH (t:Project {source: \"BASIS+ Task via SIPP Services\", id_basis_taskid: row.id_basis_taskid})\n",
    "                MERGE (st)-[:SUBTASK_OF]->(t)\n",
    "    \"\"\" % {\n",
    "        \"source_path\": isaid_helpers.local_cache_path,\n",
    "        \"source_file\": isaid_helpers.f_graphable_sipp_projects\n",
    "    })"
   ]
  },
  {
   "cell_type": "code",
   "execution_count": 10,
   "metadata": {},
   "outputs": [
    {
     "name": "stdout",
     "output_type": "stream",
     "text": [
      "CPU times: user 2.5 ms, sys: 2.5 ms, total: 5 ms\n",
      "Wall time: 1min 19s\n"
     ]
    }
   ],
   "source": [
    "%%time\n",
    "with isaid_helpers.graph_driver.session(database=isaid_helpers.graphdb) as session:\n",
    "    session.run(\"\"\"\n",
    "        LOAD CSV WITH HEADERS FROM '%(source_path)s/%(source_file)s' AS row\n",
    "        WITH row\n",
    "            WHERE NOT row.project_chief_fppsid IS NULL\n",
    "            MATCH (pr:Project {project_id: row.project_id})\n",
    "            WITH pr, row\n",
    "                MATCH (p:Person {id_fpps: row.project_chief_fppsid})\n",
    "                MERGE (p)-[r:PROJECT_CHIEF_OF]->(pr)\n",
    "                SET r.date_qualifier = row.date_qualifier\n",
    "    \"\"\" % {\n",
    "        \"source_path\": isaid_helpers.local_cache_path,\n",
    "        \"source_file\": isaid_helpers.f_graphable_sipp_projects\n",
    "    })"
   ]
  },
  {
   "cell_type": "code",
   "execution_count": 13,
   "metadata": {},
   "outputs": [
    {
     "name": "stdout",
     "output_type": "stream",
     "text": [
      "CPU times: user 5.72 ms, sys: 3.27 ms, total: 8.98 ms\n",
      "Wall time: 4min 28s\n"
     ]
    }
   ],
   "source": [
    "%%time\n",
    "with isaid_helpers.graph_driver.session(database=isaid_helpers.graphdb) as session:\n",
    "    session.run(\"\"\"\n",
    "        LOAD CSV WITH HEADERS FROM '%(source_path)s/%(source_file)s' AS row\n",
    "        WITH row\n",
    "            WHERE NOT row.task_leaders_fppsid IS NULL\n",
    "            MATCH (pr:Project {project_id: row.project_id})\n",
    "            UNWIND split(row.task_leaders_fppsid, \",\") AS tl_id\n",
    "                WITH pr, tl_id, row\n",
    "                    MATCH (p:Person {id_fpps: tl_id})\n",
    "                    MERGE (p)-[r:TASK_LEADER_OF]->(pr)\n",
    "                    SET r.date_qualifier = row.date_qualifier\n",
    "    \"\"\" % {\n",
    "        \"source_path\": isaid_helpers.local_cache_path,\n",
    "        \"source_file\": isaid_helpers.f_graphable_sipp_projects\n",
    "    })"
   ]
  },
  {
   "cell_type": "code",
   "execution_count": 14,
   "metadata": {},
   "outputs": [
    {
     "name": "stdout",
     "output_type": "stream",
     "text": [
      "CPU times: user 2.59 ms, sys: 2.23 ms, total: 4.82 ms\n",
      "Wall time: 1min 27s\n"
     ]
    }
   ],
   "source": [
    "%%time\n",
    "with isaid_helpers.graph_driver.session(database=isaid_helpers.graphdb) as session:\n",
    "    session.run(\"\"\"\n",
    "        LOAD CSV WITH HEADERS FROM '%(source_path)s/%(source_file)s' AS row\n",
    "        WITH row\n",
    "            WHERE NOT row.subtask_leaders_fppsid IS NULL\n",
    "            MATCH (pr:Project {project_id: row.project_id})\n",
    "            UNWIND split(row.subtask_leaders_fppsid, \",\") AS tl_id\n",
    "                WITH pr, tl_id, row\n",
    "                    MATCH (p:Person {id_fpps: tl_id})\n",
    "                    MERGE (p)-[r:SUBTASK_LEADER_OF]->(pr)\n",
    "                    SET r.date_qualifier = row.date_qualifier\n",
    "    \"\"\" % {\n",
    "        \"source_path\": isaid_helpers.local_cache_path,\n",
    "        \"source_file\": isaid_helpers.f_graphable_sipp_projects\n",
    "    })"
   ]
  },
  {
   "cell_type": "code",
   "execution_count": 15,
   "metadata": {},
   "outputs": [
    {
     "name": "stdout",
     "output_type": "stream",
     "text": [
      "CPU times: user 7.3 ms, sys: 5.81 ms, total: 13.1 ms\n",
      "Wall time: 5min 25s\n"
     ]
    }
   ],
   "source": [
    "%%time\n",
    "with isaid_helpers.graph_driver.session(database=isaid_helpers.graphdb) as session:\n",
    "    session.run(\"\"\"\n",
    "        LOAD CSV WITH HEADERS FROM '%(source_path)s/%(source_file)s' AS row\n",
    "        WITH row\n",
    "           MATCH (pr:Project{project_id: row.project_id})\n",
    "           WITH pr, row\n",
    "               MATCH (o:Organization {fbms_code: row.id_cost_center})\n",
    "               MERGE (o)-[:CONDUCTS]->(pr)\n",
    "    \"\"\" % {\n",
    "        \"source_path\": isaid_helpers.local_cache_path,\n",
    "        \"source_file\": isaid_helpers.f_graphable_sipp_projects\n",
    "    })"
   ]
  },
  {
   "cell_type": "markdown",
   "metadata": {},
   "source": [
    "# Keywords\n",
    "There are two types of keywords that show up in the internal project system we are using. One of these is a relatively clean source and comes from a more controlled part of the system model. The other is part of a loosely managed collection of other narratives, and the data in that area is really messy. I made an attempt to clean things up somewhat, but it still needs more work and NER may yield better results from this content anyway. Because the more structured keywords are actually pretty reasonable and reasonably sized (882 distinct terms), I go ahead and add them to the graph here as UndefinedSubjectMatter entities with an ADDRESSES_SUBJECT relationship with projects. Some of these terms appear to be specialized codes being used by USGS Programs or Mission Areas, so they may be able to get some type of definition with a little more digging."
   ]
  },
  {
   "cell_type": "code",
   "execution_count": 6,
   "metadata": {},
   "outputs": [
    {
     "name": "stdout",
     "output_type": "stream",
     "text": [
      "CPU times: user 2.5 ms, sys: 2.16 ms, total: 4.65 ms\n",
      "Wall time: 1min 15s\n"
     ]
    }
   ],
   "source": [
    "%%time\n",
    "with isaid_helpers.graph_driver.session(database=isaid_helpers.graphdb) as session:\n",
    "    session.run(\"\"\"\n",
    "        LOAD CSV WITH HEADERS FROM '%(source_path)s/%(source_file)s' AS row\n",
    "        WITH row\n",
    "            WHERE NOT row.keywords IS NULL\n",
    "            MATCH (pr:Project {project_id: row.project_id})\n",
    "            UNWIND split(row.keywords, \";\") AS kw\n",
    "                WITH pr, kw, row\n",
    "                    MERGE (t:UndefinedSubjectMatter {name: kw})\n",
    "                    ON CREATE\n",
    "                        SET t.source = row.source\n",
    "                    MERGE (pr)-[r:ADDRESSES_SUBJECT]->(t)\n",
    "                    SET r.date_qualifier = row.date_qualifier\n",
    "    \"\"\" % {\n",
    "        \"source_path\": isaid_helpers.local_cache_path,\n",
    "        \"source_file\": isaid_helpers.f_graphable_sipp_projects\n",
    "    })"
   ]
  },
  {
   "cell_type": "markdown",
   "metadata": {},
   "source": [
    "# Project Staffing\n",
    "Relationships between people and projects is a factor of the number of hours someone is budgeted to work on a project. We build here on the previous work we did to identify people from the internal system to those we pulled into our graph from master data and add in the internal opaque identifier used everywhere in the internal system. We then summarize the budget information to produce a simple data that gives us the personnel ID, project number and task number that we can use to identify a subset of the projects where we are able to make a \"FUNDED_BY\" relationship connection. The number of hours we are using is a fluid figure as this information is changing all the time as accounting is ongoing, but we determine the maximum between two different accounting numbers (planned and actual) and put that number into an \"hours\" property on the relationships."
   ]
  },
  {
   "cell_type": "code",
   "execution_count": 4,
   "metadata": {},
   "outputs": [
    {
     "name": "stdout",
     "output_type": "stream",
     "text": [
      "CPU times: user 5.87 ms, sys: 3.51 ms, total: 9.38 ms\n",
      "Wall time: 4min 57s\n"
     ]
    }
   ],
   "source": [
    "%%time\n",
    "with isaid_helpers.graph_driver.session(database=isaid_helpers.graphdb) as session:\n",
    "    session.run(\"\"\"\n",
    "        LOAD CSV WITH HEADERS FROM '%(source_path)s/%(source_file)s' AS row\n",
    "        WITH row\n",
    "           MATCH (pr:Project {id_basis_project: row.ProjectNumber, basis_task_number: row.TaskNumber})\n",
    "           WITH pr, row\n",
    "               MATCH (p:Person {id_fpps: row.FPPSID})\n",
    "               MERGE (p)-[f:FUNDED_BY]->(pr)\n",
    "               SET f.hours = row.max_hours\n",
    "    \"\"\" % {\n",
    "        \"source_path\": isaid_helpers.local_cache_path,\n",
    "        \"source_file\": isaid_helpers.f_graphable_sipp_staffing\n",
    "    })"
   ]
  },
  {
   "cell_type": "code",
   "execution_count": null,
   "metadata": {},
   "outputs": [],
   "source": []
  }
 ],
 "metadata": {
  "kernelspec": {
   "display_name": "Python 3",
   "language": "python",
   "name": "python3"
  },
  "language_info": {
   "codemirror_mode": {
    "name": "ipython",
    "version": 3
   },
   "file_extension": ".py",
   "mimetype": "text/x-python",
   "name": "python",
   "nbconvert_exporter": "python",
   "pygments_lexer": "ipython3",
   "version": "3.8.2"
  }
 },
 "nbformat": 4,
 "nbformat_minor": 4
}
