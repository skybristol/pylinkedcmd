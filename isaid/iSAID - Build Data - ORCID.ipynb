{
 "cells": [
  {
   "cell_type": "code",
   "execution_count": 1,
   "metadata": {},
   "outputs": [],
   "source": [
    "import isaid_helpers\n",
    "import requests\n",
    "import json\n",
    "import pandas as pd\n",
    "import os\n",
    "import pickle\n",
    "import re\n",
    "import datetime\n",
    "import click\n",
    "from copy import copy\n",
    "from pylinkedcmd import utilities\n",
    "import validators"
   ]
  },
  {
   "cell_type": "code",
   "execution_count": 2,
   "metadata": {},
   "outputs": [],
   "source": [
    "# ORCID Stuff\n",
    "def orcid_doc_relationships(orcid_record):\n",
    "    # Need to work identifier, url, alternateName, and alumniOf into this still\n",
    "    if \"error\" in orcid_record:\n",
    "        return list()\n",
    "\n",
    "    relationship_mapper = {\n",
    "        \"@reverse\": {\n",
    "            \"creator\": {\n",
    "                \"entity\": \"CreativeWork\",\n",
    "                \"rel\": \"AUTHOR_OF\"\n",
    "            },\n",
    "            \"funder\": {\n",
    "                \"entity\": \"CreativeWork\",\n",
    "                \"rel\": \"FUNDER_OF\"\n",
    "            }\n",
    "        }\n",
    "    }\n",
    "    \n",
    "    relationships = list()\n",
    "    \n",
    "    rel_stud = {\n",
    "        \"orcid\": orcid_record[\"orcid\"],\n",
    "        \"date_qualifier\": orcid_record[\"_date_cached\"],\n",
    "        \"reference\": orcid_record[\"@id\"]\n",
    "    }\n",
    "    \n",
    "    if \"@reverse\" in orcid_record:\n",
    "        for work_type in orcid_record[\"@reverse\"].keys():\n",
    "            if isinstance(orcid_record[\"@reverse\"][work_type], list):\n",
    "                item_list = orcid_record[\"@reverse\"][work_type]\n",
    "            else:\n",
    "                item_list = [orcid_record[\"@reverse\"][work_type]]\n",
    "            for item in item_list:\n",
    "                work_item = copy(rel_stud)\n",
    "                work_item[\"name\"] = item[\"name\"]\n",
    "                work_item[\"entity_type\"] = relationship_mapper[\"@reverse\"][work_type][\"entity\"]\n",
    "                work_item[\"rel_type\"] = relationship_mapper[\"@reverse\"][work_type][\"rel\"]\n",
    "                if \"@id\" in item:\n",
    "                    work_item[\"url\"] = item[\"@id\"]\n",
    "                    work_item[\"doi\"] = utilities.doi_from_string(item[\"@id\"])\n",
    "                relationships.append(work_item)\n",
    "                \n",
    "    if \"affiliation\" in orcid_record:\n",
    "        if isinstance(orcid_record[\"affiliation\"], dict):\n",
    "            affiliation_list = [orcid_record[\"affiliation\"]]\n",
    "        else:\n",
    "            affiliation_list = orcid_record[\"affiliation\"]\n",
    "\n",
    "        for affiliation in affiliation_list:\n",
    "            work_item = copy(rel_stud)\n",
    "            work_item[\"name\"] = affiliation[\"name\"]\n",
    "            if \"alternateName\" in affiliation:\n",
    "                work_item[\"alternate_name\"] = affiliation[\"alternateName\"]\n",
    "                work_item[\"name\"] = f\"{affiliation['name']}, {affiliation['alternateName']}\"\n",
    "            work_item[\"entity_type\"] = affiliation[\"@type\"]\n",
    "            work_item[\"rel_type\"] = \"AFFILIATED_WITH\"\n",
    "            if \"@id\" in affiliation:\n",
    "                doi_in_id = utilities.doi_from_string(affiliation[\"@id\"])\n",
    "                if doi_in_id:\n",
    "                    work_item[\"doi\"] = doi_in_id\n",
    "                if validators.url(affiliation[\"@id\"]):\n",
    "                    work_item[\"url\"] = affiliation[\"@id\"]\n",
    "                elif affiliation[\"@id\"].split(\".\")[0] == \"grid\":\n",
    "                    work_item[\"grid_id\"] = affiliation[\"@id\"]\n",
    "            if \"identifier\" in affiliation and affiliation[\"identifier\"][\"propertyID\"] == \"RINGGOLD\":\n",
    "                work_item[\"ringgold_id\"] = affiliation[\"identifier\"][\"value\"]\n",
    "                \n",
    "            relationships.append(work_item)\n",
    "                \n",
    "    return relationships\n",
    "\n",
    "def orcid_relationships(orcid_cache, return_format=None):\n",
    "    orcid_rels = list()\n",
    "    for orcid_doc in orcid_cache:\n",
    "        orcid_rels.extend(orcid_doc_relationships(orcid_doc))\n",
    "\n",
    "    if return_format == \"dataframe\":\n",
    "        return pd.DataFrame(orcid_rels)\n",
    "    else:\n",
    "        return orcid_rels"
   ]
  },
  {
   "cell_type": "code",
   "execution_count": 3,
   "metadata": {},
   "outputs": [
    {
     "name": "stdout",
     "output_type": "stream",
     "text": [
      "Are you sure you want to run the process to get all ORCID data from the cache? [Y/n]: y\n",
      "data/process_orcid.p CREATED 2021-06-24 11:22:44.764465\n",
      "CPU times: user 461 ms, sys: 160 ms, total: 621 ms\n",
      "Wall time: 11.9 s\n"
     ]
    }
   ],
   "source": [
    "%%time\n",
    "if click.confirm('Are you sure you want to run the process to get all ORCID data from the cache?', default=True):\n",
    "    orcid_cache = isaid_helpers.cache_chs_cache(\"orcid\")\n",
    "    pickle.dump(orcid_cache, open(isaid_helpers.f_raw_orcid, \"wb\"))\n",
    "    print(\n",
    "        isaid_helpers.f_raw_orcid, \n",
    "        \"CREATED\", \n",
    "        datetime.datetime.fromtimestamp(os.path.getmtime(isaid_helpers.f_raw_orcid))\n",
    "    )\n",
    "else:\n",
    "    orcid_cache = pickle.load(open(isaid_helpers.f_raw_orcid, \"rb\"))\n",
    "    print(\"orcid_cache loaded to memory from cache file\")"
   ]
  },
  {
   "cell_type": "code",
   "execution_count": 4,
   "metadata": {},
   "outputs": [
    {
     "name": "stdout",
     "output_type": "stream",
     "text": [
      "data/graphable_table_orcid.csv CREATED 2021-06-24 11:24:44.024396\n",
      "CPU times: user 374 ms, sys: 21.9 ms, total: 396 ms\n",
      "Wall time: 418 ms\n"
     ]
    }
   ],
   "source": [
    "%%time\n",
    "orcid_relationships(\n",
    "    orcid_cache,\n",
    "    return_format=\"dataframe\"\n",
    ").to_csv(isaid_helpers.f_graphable_orcid, index=False)\n",
    "print(\n",
    "    isaid_helpers.f_graphable_orcid, \n",
    "    \"CREATED\", \n",
    "    datetime.datetime.fromtimestamp(os.path.getmtime(isaid_helpers.f_graphable_orcid))\n",
    ")"
   ]
  },
  {
   "cell_type": "code",
   "execution_count": null,
   "metadata": {},
   "outputs": [],
   "source": []
  }
 ],
 "metadata": {
  "kernelspec": {
   "display_name": "Python 3",
   "language": "python",
   "name": "python3"
  },
  "language_info": {
   "codemirror_mode": {
    "name": "ipython",
    "version": 3
   },
   "file_extension": ".py",
   "mimetype": "text/x-python",
   "name": "python",
   "nbconvert_exporter": "python",
   "pygments_lexer": "ipython3",
   "version": "3.8.2"
  }
 },
 "nbformat": 4,
 "nbformat_minor": 4
}
